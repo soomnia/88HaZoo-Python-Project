{
 "cells": [
  {
   "cell_type": "code",
   "execution_count": 19,
   "metadata": {},
   "outputs": [
    {
     "data": {
      "text/plain": [
       "8"
      ]
     },
     "execution_count": 19,
     "metadata": {},
     "output_type": "execute_result"
    }
   ],
   "source": [
    "# 기본 URL\n",
    "base_url = 'https://news.naver.com/breakingnews/section/105/'\n",
    "\n",
    "# 카테고리별 id를 구해 리스트에 넣자\n",
    "## 규칙이 있으면 좋을텐데... 당장 내 눈에 보이는 규칙은 없음...\n",
    "\n",
    "# 모바일\n",
    "# 'https://news.naver.com/breakingnews/section/105/731?date=20240410'\n",
    "c_mobile = 731\n",
    "\n",
    "# 인터넷/SNS\n",
    "#'https://news.naver.com/breakingnews/section/105/226?date=20240410'\n",
    "c_internet_sns = 226\n",
    "\n",
    "# 통신/뉴미디어\n",
    "#'https://news.naver.com/breakingnews/section/105/227?date=20240410'\n",
    "c_communcation_media = 227\n",
    "\n",
    "# IT 일반\n",
    "#'https://news.naver.com/breakingnews/section/105/230?date=20240410'\n",
    "c_it_general = 230\n",
    "\n",
    "# 보안/해킹\n",
    "#'https://news.naver.com/breakingnews/section/105/732?date=20240410'\n",
    "c_security = 732\n",
    "\n",
    "# 컴퓨터\n",
    "#'https://news.naver.com/breakingnews/section/105/283?date=20240410'\n",
    "c_computer = 283\n",
    "\n",
    "# 게임/리뷰\n",
    "#'https://news.naver.com/breakingnews/section/105/229?date=20240410'\n",
    "c_game_review = 229\n",
    "\n",
    "# 과학 일반 \n",
    "#'https://news.naver.com/breakingnews/section/105/228?date=20240410'\n",
    "c_science_general = 228\n",
    "\n",
    "category_list = [c_mobile, c_internet_sns, c_communcation_media, c_it_general, c_security, c_computer, c_game_review, c_science_general]\n",
    "\n",
    "len(category_list)\n"
   ]
  },
  {
   "cell_type": "code",
   "execution_count": 20,
   "metadata": {},
   "outputs": [],
   "source": [
    "from datetime import datetime, timedelta\n",
    "\n",
    "# 어제 날짜를 구해 URL을 완성하자!\n",
    "## https://docs.python.org/3/library/datetime.html#examples-of-usage-timedelta\n",
    "## https://docs.python.org/3/library/datetime.html#examples-of-usage-timedelta\n",
    "\n",
    "def get_date_query():\n",
    "    # 오늘 날짜 구하기\n",
    "    today = datetime.now()\n",
    "    # print(today)\n",
    "\n",
    "    # 오늘에서 하루 빼서 어제 날짜 구하기\n",
    "    yesterday = today - timedelta(1)\n",
    "    # print(yesterday)\n",
    "\n",
    "    # 형변환해서 필요한 연월일만 슬라이싱\n",
    "    yesterday = str(yesterday)[:11]\n",
    "    # print(yesterday)\n",
    "\n",
    "    # 쿼리에 쓰이도록 '-' 를 ''로 대체\n",
    "    yesterday = yesterday.replace('-', '')\n",
    "    # print(yesterday)\n",
    "\n",
    "    # 최종적인 날짜 쿼리!\n",
    "    url_query_date = f'?date={yesterday}'\n",
    "    # print(url_query_date)\n",
    "\n",
    "    return url_query_date\n"
   ]
  },
  {
   "cell_type": "code",
   "execution_count": 21,
   "metadata": {},
   "outputs": [
    {
     "name": "stdout",
     "output_type": "stream",
     "text": [
      "?date=20240410 \n"
     ]
    }
   ],
   "source": [
    "url_query_date = get_date_query()\n",
    "print(url_query_date)"
   ]
  },
  {
   "cell_type": "code",
   "execution_count": 22,
   "metadata": {},
   "outputs": [
    {
     "name": "stdout",
     "output_type": "stream",
     "text": [
      "https://news.naver.com/breakingnews/section/105/731?date=20240410 \n",
      "https://news.naver.com/breakingnews/section/105/226?date=20240410 \n",
      "https://news.naver.com/breakingnews/section/105/227?date=20240410 \n",
      "https://news.naver.com/breakingnews/section/105/230?date=20240410 \n",
      "https://news.naver.com/breakingnews/section/105/732?date=20240410 \n",
      "https://news.naver.com/breakingnews/section/105/283?date=20240410 \n",
      "https://news.naver.com/breakingnews/section/105/229?date=20240410 \n",
      "https://news.naver.com/breakingnews/section/105/228?date=20240410 \n",
      "['https://news.naver.com/breakingnews/section/105/731?date=20240410 ', 'https://news.naver.com/breakingnews/section/105/226?date=20240410 ', 'https://news.naver.com/breakingnews/section/105/227?date=20240410 ', 'https://news.naver.com/breakingnews/section/105/230?date=20240410 ', 'https://news.naver.com/breakingnews/section/105/732?date=20240410 ', 'https://news.naver.com/breakingnews/section/105/283?date=20240410 ', 'https://news.naver.com/breakingnews/section/105/229?date=20240410 ', 'https://news.naver.com/breakingnews/section/105/228?date=20240410 ']\n"
     ]
    }
   ],
   "source": [
    "url_list = []\n",
    "\n",
    "for category in category_list:\n",
    "    url = f\"{base_url}{category}{url_query_date}\"\n",
    "    # print(url)\n",
    "    url_list.append(url)\n",
    "\n",
    "print(url_list)"
   ]
  }
 ],
 "metadata": {
  "kernelspec": {
   "display_name": "base",
   "language": "python",
   "name": "python3"
  },
  "language_info": {
   "codemirror_mode": {
    "name": "ipython",
    "version": 3
   },
   "file_extension": ".py",
   "mimetype": "text/x-python",
   "name": "python",
   "nbconvert_exporter": "python",
   "pygments_lexer": "ipython3",
   "version": "3.11.7"
  }
 },
 "nbformat": 4,
 "nbformat_minor": 2
}
