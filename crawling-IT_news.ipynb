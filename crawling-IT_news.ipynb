{
 "cells": [
  {
   "cell_type": "code",
   "execution_count": 19,
   "metadata": {},
   "outputs": [
    {
     "data": {
      "text/plain": [
       "8"
      ]
     },
     "execution_count": 19,
     "metadata": {},
     "output_type": "execute_result"
    }
   ],
   "source": [
    "# 기본 URL\n",
    "base_url = 'https://news.naver.com/breakingnews/section/105/'\n",
    "\n",
    "# 카테고리별 id를 구해 리스트에 넣자\n",
    "## 규칙이 있으면 좋을텐데... 당장 내 눈에 보이는 규칙은 없음...\n",
    "\n",
    "# 모바일\n",
    "# 'https://news.naver.com/breakingnews/section/105/731?date=20240410'\n",
    "c_mobile = 731\n",
    "\n",
    "# 인터넷/SNS\n",
    "#'https://news.naver.com/breakingnews/section/105/226?date=20240410'\n",
    "c_internet_sns = 226\n",
    "\n",
    "# 통신/뉴미디어\n",
    "#'https://news.naver.com/breakingnews/section/105/227?date=20240410'\n",
    "c_communcation_media = 227\n",
    "\n",
    "# IT 일반\n",
    "#'https://news.naver.com/breakingnews/section/105/230?date=20240410'\n",
    "c_it_general = 230\n",
    "\n",
    "# 보안/해킹\n",
    "#'https://news.naver.com/breakingnews/section/105/732?date=20240410'\n",
    "c_security = 732\n",
    "\n",
    "# 컴퓨터\n",
    "#'https://news.naver.com/breakingnews/section/105/283?date=20240410'\n",
    "c_computer = 283\n",
    "\n",
    "# 게임/리뷰\n",
    "#'https://news.naver.com/breakingnews/section/105/229?date=20240410'\n",
    "c_game_review = 229\n",
    "\n",
    "# 과학 일반 \n",
    "#'https://news.naver.com/breakingnews/section/105/228?date=20240410'\n",
    "c_science_general = 228\n",
    "\n",
    "category_list = [c_mobile, c_internet_sns, c_communcation_media, c_it_general, c_security, c_computer, c_game_review, c_science_general]\n",
    "\n",
    "len(category_list)\n"
   ]
  },
  {
   "cell_type": "code",
   "execution_count": 2,
   "metadata": {},
   "outputs": [],
   "source": [
    "from datetime import datetime, timedelta\n",
    "\n",
    "# 어제 날짜를 구해 URL을 완성하자!\n",
    "## https://docs.python.org/3/library/datetime.html#examples-of-usage-timedelta\n",
    "## https://docs.python.org/3/library/datetime.html#examples-of-usage-timedelta\n",
    "\n",
    "def get_yesterday():\n",
    "    # 오늘 날짜 구하기\n",
    "    today = datetime.now()\n",
    "    # print(today)\n",
    "\n",
    "    # 오늘에서 하루 빼서 어제 날짜 구하기\n",
    "    yesterday = today - timedelta(1)\n",
    "    # print(yesterday)\n",
    "\n",
    "    # 형변환해서 필요한 연월일만 슬라이싱\n",
    "    yesterday = str(yesterday)[:10]\n",
    "    # print(yesterday)\n",
    "\n",
    "    # 쿼리에 쓰이도록 '-' 를 ''로 대체\n",
    "    yesterday = yesterday.replace('-', '')\n",
    "    # print(yesterday)\n",
    "\n",
    "    return yesterday\n"
   ]
  },
  {
   "cell_type": "code",
   "execution_count": 3,
   "metadata": {},
   "outputs": [
    {
     "name": "stdout",
     "output_type": "stream",
     "text": [
      "20240411\n",
      "?date=20240411\n"
     ]
    }
   ],
   "source": [
    "# 최종적인 날짜 쿼리!\n",
    "yesterday = get_yesterday()\n",
    "print(yesterday)\n",
    "url_query_date = f'?date={yesterday}'\n",
    "print(url_query_date)"
   ]
  },
  {
   "cell_type": "code",
   "execution_count": 26,
   "metadata": {},
   "outputs": [
    {
     "name": "stdout",
     "output_type": "stream",
     "text": [
      "['https://news.naver.com/breakingnews/section/105/731?date=20240410 ', 'https://news.naver.com/breakingnews/section/105/226?date=20240410 ', 'https://news.naver.com/breakingnews/section/105/227?date=20240410 ', 'https://news.naver.com/breakingnews/section/105/230?date=20240410 ', 'https://news.naver.com/breakingnews/section/105/732?date=20240410 ', 'https://news.naver.com/breakingnews/section/105/283?date=20240410 ', 'https://news.naver.com/breakingnews/section/105/229?date=20240410 ', 'https://news.naver.com/breakingnews/section/105/228?date=20240410 ']\n"
     ]
    }
   ],
   "source": [
    "url_list = []\n",
    "\n",
    "for category in category_list:\n",
    "    url = f\"{base_url}{category}{url_query_date}\"\n",
    "    # print(url)\n",
    "    url_list.append(url)\n",
    "\n",
    "print(url_list)"
   ]
  },
  {
   "cell_type": "code",
   "execution_count": null,
   "metadata": {},
   "outputs": [],
   "source": [
    "## vscode 기준\n",
    "# 셀레늄 설치\n",
    "%pip install selenium\n",
    "# webdriver-manager 설치\n",
    "%pip install webdriver-manager"
   ]
  },
  {
   "cell_type": "code",
   "execution_count": 71,
   "metadata": {},
   "outputs": [],
   "source": [
    "# import\n",
    "from selenium import webdriver\n",
    "from selenium.webdriver.common.by import By\n",
    "\n",
    "browser = webdriver.Chrome()"
   ]
  },
  {
   "cell_type": "code",
   "execution_count": null,
   "metadata": {},
   "outputs": [],
   "source": [
    "\n",
    "# 기사 내용 담을 리스트\n",
    "item_list = []\n",
    "\n",
    "\n",
    "for url in url_list:\n",
    "    browser.get(url)\n",
    "\n",
    "    # 기사 컨테이너:\n",
    "    ## class=\"sa_text\"\n",
    "    link_container_list = browser.find_elements(By.CLASS_NAME, 'sa_text')\n",
    "    link_list = []\n",
    "\n",
    "    # 일단 기사 링크를 먼저 모으자\n",
    "    for container in link_container_list:\n",
    "        ## 링크\n",
    "        link = container.find_element(By.CLASS_NAME, 'sa_text_title').get_attribute(\"href\")\n",
    "        print(\"link:\", link)\n",
    "\n",
    "        link_list.append(link)\n",
    "\n",
    "    print(len(link_list))\n",
    "    print(link_list)\n",
    "\n",
    "    import time\n",
    "    # 링크로 이동해서 내용을 크롤링하자:\n",
    "    ## class=\"sa_text\"\n",
    "\n",
    "    # 제목, 언론사, 작성일, 내용, 링크, 전체 내용\n",
    "    for item in link_list:\n",
    "        print(\"url:\", item)\n",
    "        \n",
    "        browser.get(item)\n",
    "\n",
    "        ## 제목\n",
    "        try:\n",
    "            ## id=\"title_area\"\n",
    "            title = browser.find_element(By.ID, 'title_area').text\n",
    "        except:\n",
    "            ## class=\"title\"\n",
    "            # title = browser.find_element(By.CLASS_NAME, 'title').text\n",
    "            print(\"양식이 달라요\")\n",
    "            # 하 예외처리... 일단 패스\n",
    "            continue\n",
    "\n",
    "        print(\"title:\", title)\n",
    "    \n",
    "        ## 언론사\n",
    "        ## class=\"media_end_head_top_logo_img\"\n",
    "        press = browser.find_element(By.CLASS_NAME, 'media_end_head_top_logo_img').get_attribute(\"title\")\n",
    "        print(\"press:\", press)\n",
    "        \n",
    "        # ## 원문 링크\n",
    "        # ## class=\"media_end_head_origin_link\"\n",
    "        # origin = browser.find_element(By.CLASS_NAME, 'media_end_head_origin_link').get_attribute(\"href\")\n",
    "        # print(\"origin:\", origin)\n",
    "\n",
    "        ## 작성일\n",
    "        date = browser.find_element(By.CLASS_NAME, 'media_end_head_info_datestamp_time').text\n",
    "        print(\"date:\", date)\n",
    "        \n",
    "        ### 입력일\n",
    "        ## class=\"media_end_head_info_datestamp_time _ARTICLE_DATE_TIME\"\n",
    "        date_input = browser.find_element(By.CLASS_NAME, '_ARTICLE_DATE_TIME').text\n",
    "        print(\"date_input:\", date_input)\n",
    "\n",
    "        # ### 수정일\n",
    "        # ## class=\"media_end_head_info_datestamp_time _ARTICLE_MODIFY_DATE_TIME\"\n",
    "        # try:\n",
    "        #     update_date_elem = browser.find_element(By.CLASS_NAME, '_ARTICLE_MODIFY_DATE_TIME')\n",
    "        #     date_update = update_date_elem.text\n",
    "        # except:\n",
    "        #     date_update = ''\n",
    "\n",
    "        # print(\"date_update:\", date_update)\n",
    "\n",
    "        # ## 요약\n",
    "        # ## class=\"media_end_summary\"\n",
    "        # try:\n",
    "        #     summary_elem = browser.find_element(By.CLASS_NAME, 'media_end_summary')\n",
    "        #     summary = summary_elem.text\n",
    "        # except:\n",
    "        #     summary = ''\n",
    "        \n",
    "        # print(\"summary: \", summary)\n",
    "        \n",
    "        ## 전체 내용\n",
    "        ## id=\"newsct_article\"\n",
    "        content = browser.find_element(By.ID, 'newsct_article').text\n",
    "        print(\"content: \", content)\n",
    "\n",
    "\n",
    "        item_list.append({\n",
    "            '제목': title,\n",
    "            '언론사': press,\n",
    "            '입력': date_input,\n",
    "            # '수정': date_update,\n",
    "            '링크': item,\n",
    "            # '원문링크': origin,\n",
    "            # '내용': summary,\n",
    "            '전체 내용': content\n",
    "        })\n",
    "\n",
    "        time.sleep(0.5)\n",
    "\n",
    "\n",
    "    print(len(item_list))\n",
    "    print(item_list)"
   ]
  },
  {
   "cell_type": "code",
   "execution_count": null,
   "metadata": {},
   "outputs": [],
   "source": [
    "## 엑셀로 저장\n",
    "import pandas as pd\n",
    "df = pd.DataFrame(item_list)\n",
    "## https://pandas.pydata.org/pandas-docs/stable/reference/api/pandas.DataFrame.to_excel.html\n",
    "# df.to_excel()\n",
    "df"
   ]
  },
  {
   "cell_type": "code",
   "execution_count": 98,
   "metadata": {},
   "outputs": [],
   "source": [
    "df.to_excel(f\"{yesterday}_네이버_IT_과학_뉴스.xlsx\")"
   ]
  }
 ],
 "metadata": {
  "kernelspec": {
   "display_name": "base",
   "language": "python",
   "name": "python3"
  },
  "language_info": {
   "codemirror_mode": {
    "name": "ipython",
    "version": 3
   },
   "file_extension": ".py",
   "mimetype": "text/x-python",
   "name": "python",
   "nbconvert_exporter": "python",
   "pygments_lexer": "ipython3",
   "version": "3.11.7"
  }
 },
 "nbformat": 4,
 "nbformat_minor": 2
}
